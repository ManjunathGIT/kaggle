{
 "cells": [
  {
   "cell_type": "code",
   "execution_count": 48,
   "metadata": {
    "collapsed": true
   },
   "outputs": [],
   "source": [
    "import pandas as pd\n",
    "import numpy as np\n",
    "from math import isnan\n",
    "# Set ipython's max row display\n",
    "pd.set_option('display.max_row', 10)\n",
    "\n",
    "# Set iPython's max column width to 50\n",
    "pd.set_option('display.max_columns', 50)"
   ]
  },
  {
   "cell_type": "code",
   "execution_count": 67,
   "metadata": {
    "collapsed": false
   },
   "outputs": [],
   "source": [
    "train = pd.read_csv(\"train.csv\")\n",
    "test = pd.read_csv(\"test.csv\")\n",
    "\n",
    "train = train[['VisitNumber', 'Weekday', 'DepartmentDescription', 'TripType']]\n",
    "train = pd.concat([train, pd.get_dummies(train['DepartmentDescription'])], axis=1)\n",
    "\n",
    "test = test[['VisitNumber', 'Weekday', 'DepartmentDescription']]\n",
    "test = pd.concat([test, pd.get_dummies(test['DepartmentDescription'])], axis=1)\n",
    "\n",
    "dept_uniq = pd.unique(train.DepartmentDescription.ravel()) # train set has all dept's \n",
    "dept_uniq = filter(lambda v: v==v, dept_uniq) # to remove nan\n",
    "dept_dict = dict((k, 'sum') for k in dept_uniq)\n",
    "#print dept_dict\n",
    "\n",
    "del train['DepartmentDescription']\n",
    "del test['DepartmentDescription']\n",
    "test['HEALTH AND BEAUTY AIDS'] = 0\n",
    "\n",
    "train_grouped = train.groupby(['VisitNumber', 'Weekday', 'TripType'])\n",
    "train_grouped.agg(dept_dict).to_csv('train_extra_features.csv', sep=',')\n",
    "\n",
    "test_grouped = test.groupby(['VisitNumber', 'Weekday'])\n",
    "test_grouped.agg(dept_dict).to_csv('test_extra_features.csv', sep=',')"
   ]
  },
  {
   "cell_type": "code",
   "execution_count": 16,
   "metadata": {
    "collapsed": false
   },
   "outputs": [
    {
     "name": "stdout",
     "output_type": "stream",
     "text": [
      "TripType\n",
      "VisitNumber\n",
      "Weekday\n",
      "Upc\n",
      "ScanCount\n",
      "DepartmentDescription\n",
      "FinelineNumber\n"
     ]
    }
   ],
   "source": []
  },
  {
   "cell_type": "code",
   "execution_count": null,
   "metadata": {
    "collapsed": true
   },
   "outputs": [],
   "source": []
  }
 ],
 "metadata": {
  "kernelspec": {
   "display_name": "Python 2",
   "language": "python",
   "name": "python2"
  },
  "language_info": {
   "codemirror_mode": {
    "name": "ipython",
    "version": 2
   },
   "file_extension": ".py",
   "mimetype": "text/x-python",
   "name": "python",
   "nbconvert_exporter": "python",
   "pygments_lexer": "ipython2",
   "version": "2.7.10"
  }
 },
 "nbformat": 4,
 "nbformat_minor": 0
}
