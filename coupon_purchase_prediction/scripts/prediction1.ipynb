{
 "cells": [
  {
   "cell_type": "code",
   "execution_count": 7,
   "metadata": {
    "collapsed": false
   },
   "outputs": [
    {
     "data": {
      "text/html": [
       "<div style=\"max-height:1000px;max-width:1500px;overflow:auto;\">\n",
       "<table border=\"1\" class=\"dataframe\">\n",
       "  <thead>\n",
       "    <tr style=\"text-align: right;\">\n",
       "      <th></th>\n",
       "      <th>ITEM_COUNT</th>\n",
       "      <th>I_DATE</th>\n",
       "      <th>SMALL_AREA_NAME</th>\n",
       "      <th>PURCHASEID_hash</th>\n",
       "      <th>USER_ID_hash</th>\n",
       "      <th>COUPON_ID_hash</th>\n",
       "    </tr>\n",
       "  </thead>\n",
       "  <tbody>\n",
       "    <tr>\n",
       "      <th>0</th>\n",
       "      <td> 1</td>\n",
       "      <td> 2012-03-28 15:06:06</td>\n",
       "      <td>          兵庫</td>\n",
       "      <td> c820a8882374a4e472f0984a8825893f</td>\n",
       "      <td> d9dca3cb44bab12ba313eaa681f663eb</td>\n",
       "      <td> 34c48f84026e08355dc3bd19b427f09a</td>\n",
       "    </tr>\n",
       "    <tr>\n",
       "      <th>1</th>\n",
       "      <td> 1</td>\n",
       "      <td> 2011-07-04 23:52:54</td>\n",
       "      <td> 銀座・新橋・東京・上野</td>\n",
       "      <td> 1b4eb2435421ede98c8931c42e8220ec</td>\n",
       "      <td> 560574a339f1b25e57b0221e486907ed</td>\n",
       "      <td> 767673b7a777854a92b73b0934ddfae7</td>\n",
       "    </tr>\n",
       "    <tr>\n",
       "      <th>2</th>\n",
       "      <td> 1</td>\n",
       "      <td> 2011-07-16 00:52:49</td>\n",
       "      <td>   恵比寿・目黒・品川</td>\n",
       "      <td> 36b5f9ba46c44b65587d0b16f2e4c77f</td>\n",
       "      <td> 560574a339f1b25e57b0221e486907ed</td>\n",
       "      <td> 4f3b5b91d9831192557c056022fdc1f2</td>\n",
       "    </tr>\n",
       "    <tr>\n",
       "      <th>3</th>\n",
       "      <td> 1</td>\n",
       "      <td> 2011-07-16 00:54:53</td>\n",
       "      <td>   恵比寿・目黒・品川</td>\n",
       "      <td> 2f30f46937cc9004774e576914b2aa1a</td>\n",
       "      <td> 560574a339f1b25e57b0221e486907ed</td>\n",
       "      <td> 4f3b5b91d9831192557c056022fdc1f2</td>\n",
       "    </tr>\n",
       "    <tr>\n",
       "      <th>4</th>\n",
       "      <td> 1</td>\n",
       "      <td> 2011-07-16 00:55:52</td>\n",
       "      <td>   恵比寿・目黒・品川</td>\n",
       "      <td> 4d000c64a55ac573d0ae1a8f03677f50</td>\n",
       "      <td> 560574a339f1b25e57b0221e486907ed</td>\n",
       "      <td> 4f3b5b91d9831192557c056022fdc1f2</td>\n",
       "    </tr>\n",
       "  </tbody>\n",
       "</table>\n",
       "</div>"
      ],
      "text/plain": [
       "   ITEM_COUNT               I_DATE SMALL_AREA_NAME  \\\n",
       "0           1  2012-03-28 15:06:06              兵庫   \n",
       "1           1  2011-07-04 23:52:54     銀座・新橋・東京・上野   \n",
       "2           1  2011-07-16 00:52:49       恵比寿・目黒・品川   \n",
       "3           1  2011-07-16 00:54:53       恵比寿・目黒・品川   \n",
       "4           1  2011-07-16 00:55:52       恵比寿・目黒・品川   \n",
       "\n",
       "                    PURCHASEID_hash                      USER_ID_hash  \\\n",
       "0  c820a8882374a4e472f0984a8825893f  d9dca3cb44bab12ba313eaa681f663eb   \n",
       "1  1b4eb2435421ede98c8931c42e8220ec  560574a339f1b25e57b0221e486907ed   \n",
       "2  36b5f9ba46c44b65587d0b16f2e4c77f  560574a339f1b25e57b0221e486907ed   \n",
       "3  2f30f46937cc9004774e576914b2aa1a  560574a339f1b25e57b0221e486907ed   \n",
       "4  4d000c64a55ac573d0ae1a8f03677f50  560574a339f1b25e57b0221e486907ed   \n",
       "\n",
       "                     COUPON_ID_hash  \n",
       "0  34c48f84026e08355dc3bd19b427f09a  \n",
       "1  767673b7a777854a92b73b0934ddfae7  \n",
       "2  4f3b5b91d9831192557c056022fdc1f2  \n",
       "3  4f3b5b91d9831192557c056022fdc1f2  \n",
       "4  4f3b5b91d9831192557c056022fdc1f2  "
      ]
     },
     "execution_count": 7,
     "metadata": {},
     "output_type": "execute_result"
    }
   ],
   "source": [
    "import pandas as pd\n",
    "\n",
    "# read in the data\n",
    "users_list = pd.read_csv(\"../data/user_list.csv\")\n",
    "coupons_detail = pd.read_csv(\"../data/coupon_detail_train.csv\")\n",
    "coupons_list_train = pd.read_csv(\"../data/coupon_list_train.csv\")\n",
    "coupons_list_test = pd.read_csv(\"../data/coupon_list_test.csv\")\n",
    "\n",
    "coupons_detail.head()"
   ]
  },
  {
   "cell_type": "code",
   "execution_count": 47,
   "metadata": {
    "collapsed": false
   },
   "outputs": [
    {
     "data": {
      "text/html": [
       "<div style=\"max-height:1000px;max-width:1500px;overflow:auto;\">\n",
       "<table border=\"1\" class=\"dataframe\">\n",
       "  <thead>\n",
       "    <tr style=\"text-align: right;\">\n",
       "      <th></th>\n",
       "      <th>CAPSULE_TEXT_x</th>\n",
       "      <th>GENRE_NAME_x</th>\n",
       "      <th>PRICE_RATE_x</th>\n",
       "      <th>CATALOG_PRICE_x</th>\n",
       "      <th>DISCOUNT_PRICE_x</th>\n",
       "      <th>DISPFROM_x</th>\n",
       "      <th>DISPEND_x</th>\n",
       "      <th>DISPPERIOD_x</th>\n",
       "      <th>VALIDFROM_x</th>\n",
       "      <th>VALIDEND_x</th>\n",
       "      <th>...</th>\n",
       "      <th>USABLE_DATE_WED_y</th>\n",
       "      <th>USABLE_DATE_THU_y</th>\n",
       "      <th>USABLE_DATE_FRI_y</th>\n",
       "      <th>USABLE_DATE_SAT_y</th>\n",
       "      <th>USABLE_DATE_SUN_y</th>\n",
       "      <th>USABLE_DATE_HOLIDAY_y</th>\n",
       "      <th>USABLE_DATE_BEFORE_HOLIDAY_y</th>\n",
       "      <th>large_area_name_y</th>\n",
       "      <th>ken_name_y</th>\n",
       "      <th>small_area_name_y</th>\n",
       "    </tr>\n",
       "  </thead>\n",
       "  <tbody>\n",
       "  </tbody>\n",
       "</table>\n",
       "<p>0 rows × 47 columns</p>\n",
       "</div>"
      ],
      "text/plain": [
       "Empty DataFrame\n",
       "Columns: [CAPSULE_TEXT_x, GENRE_NAME_x, PRICE_RATE_x, CATALOG_PRICE_x, DISCOUNT_PRICE_x, DISPFROM_x, DISPEND_x, DISPPERIOD_x, VALIDFROM_x, VALIDEND_x, VALIDPERIOD_x, USABLE_DATE_MON_x, USABLE_DATE_TUE_x, USABLE_DATE_WED_x, USABLE_DATE_THU_x, USABLE_DATE_FRI_x, USABLE_DATE_SAT_x, USABLE_DATE_SUN_x, USABLE_DATE_HOLIDAY_x, USABLE_DATE_BEFORE_HOLIDAY_x, large_area_name_x, ken_name_x, small_area_name_x, COUPON_ID_hash, CAPSULE_TEXT_y, GENRE_NAME_y, PRICE_RATE_y, CATALOG_PRICE_y, DISCOUNT_PRICE_y, DISPFROM_y, DISPEND_y, DISPPERIOD_y, VALIDFROM_y, VALIDEND_y, VALIDPERIOD_y, USABLE_DATE_MON_y, USABLE_DATE_TUE_y, USABLE_DATE_WED_y, USABLE_DATE_THU_y, USABLE_DATE_FRI_y, USABLE_DATE_SAT_y, USABLE_DATE_SUN_y, USABLE_DATE_HOLIDAY_y, USABLE_DATE_BEFORE_HOLIDAY_y, large_area_name_y, ken_name_y, small_area_name_y]\n",
       "Index: []\n",
       "\n",
       "[0 rows x 47 columns]"
      ]
     },
     "execution_count": 47,
     "metadata": {},
     "output_type": "execute_result"
    }
   ],
   "source": [
    "# group purchased coupons by user\n",
    "#user_group = coupons_detail[[\"USER_ID_hash\", \"COUPON_ID_hash\"]].groupby(\"USER_ID_hash\")\n",
    "#user_group.head()\n",
    "\n",
    "pd.merge(coupons_detail, coupons_list_test, on='COUPON_ID_hash', how = 'inner')\n",
    "pd.merge(coupons_list_train, coupons_list_test, on='COUPON_ID_hash', how= 'inner')"
   ]
  },
  {
   "cell_type": "code",
   "execution_count": null,
   "metadata": {
    "collapsed": true
   },
   "outputs": [],
   "source": []
  }
 ],
 "metadata": {
  "kernelspec": {
   "display_name": "Python 2",
   "language": "python",
   "name": "python2"
  },
  "language_info": {
   "codemirror_mode": {
    "name": "ipython",
    "version": 2
   },
   "file_extension": ".py",
   "mimetype": "text/x-python",
   "name": "python",
   "nbconvert_exporter": "python",
   "pygments_lexer": "ipython2",
   "version": "2.7.9"
  }
 },
 "nbformat": 4,
 "nbformat_minor": 0
}
