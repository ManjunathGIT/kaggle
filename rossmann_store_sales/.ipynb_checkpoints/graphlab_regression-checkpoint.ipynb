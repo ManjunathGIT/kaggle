{
 "cells": [
  {
   "cell_type": "code",
   "execution_count": 1,
   "metadata": {
    "collapsed": true
   },
   "outputs": [],
   "source": [
    "import graphlab"
   ]
  },
  {
   "cell_type": "code",
   "execution_count": 2,
   "metadata": {
    "collapsed": false
   },
   "outputs": [
    {
     "name": "stderr",
     "output_type": "stream",
     "text": [
      "[INFO] This non-commercial license of GraphLab Create is assigned to hashkanna@gmail.comand will expire on September 26, 2016. For commercial licensing options, visit https://dato.com/buy/.\n",
      "\n",
      "[INFO] Start server at: ipc:///tmp/graphlab_server-27017 - Server binary: /Users/kanna/.graphlab/anaconda/lib/python2.7/site-packages/graphlab/unity_server - Server log: /tmp/graphlab_server_1446111060.log\n",
      "[INFO] GraphLab Server Version: 1.6.1\n"
     ]
    },
    {
     "name": "stdout",
     "output_type": "stream",
     "text": [
      "PROGRESS: Finished parsing file /Users/kanna/Sandbox/kaggle/rossmann_store_sales/train.csv\n",
      "PROGRESS: Parsing completed. Parsed 1017209 lines in 1.11573 secs.\n",
      "PROGRESS: Finished parsing file /Users/kanna/Sandbox/kaggle/rossmann_store_sales/test.csv\n",
      "PROGRESS: Parsing completed. Parsed 41088 lines in 0.054658 secs.\n",
      "PROGRESS: Finished parsing file /Users/kanna/Sandbox/kaggle/rossmann_store_sales/store.csv\n",
      "PROGRESS: Parsing completed. Parsed 100 lines in 0.010088 secs.\n",
      "------------------------------------------------------\n",
      "Inferred types from first line of file as \n",
      "column_type_hints=[int,str,str,int,int,int,int,int,int,str]\n",
      "If parsing fails due to incorrect types, you can correct\n",
      "the inferred type list above and pass it to read_csv in\n",
      "the column_type_hints argument\n",
      "------------------------------------------------------\n",
      "PROGRESS: Finished parsing file /Users/kanna/Sandbox/kaggle/rossmann_store_sales/store.csv\n",
      "PROGRESS: Parsing completed. Parsed 1115 lines in 0.010554 secs.\n"
     ]
    }
   ],
   "source": [
    "#Load data\n",
    "train = graphlab.SFrame.read_csv('train.csv', column_type_hints=[int,int,str,int,int,int,int,str,str])\n",
    "test = graphlab.SFrame.read_csv('test.csv', column_type_hints=[int,int,int,str,int,int,str,str])\n",
    "store = graphlab.SFrame.read_csv('store.csv')\n",
    "store = store.fillna(\"CompetitionDistance\", 0).fillna(\"CompetitionOpenSinceMonth\", 0).fillna(\"CompetitionOpenSinceYear\", 0).fillna(\"Promo2SinceWeek\", 0).fillna(\"Promo2SinceYear\", 0)"
   ]
  },
  {
   "cell_type": "code",
   "execution_count": 3,
   "metadata": {
    "collapsed": false
   },
   "outputs": [
    {
     "data": {
      "text/html": [
       "<div style=\"max-height:1000px;max-width:1500px;overflow:auto;\"><table frame=\"box\" rules=\"cols\">\n",
       "    <tr>\n",
       "        <th style=\"padding-left: 1em; padding-right: 1em; text-align: center\">Store</th>\n",
       "        <th style=\"padding-left: 1em; padding-right: 1em; text-align: center\">DayOfWeek</th>\n",
       "        <th style=\"padding-left: 1em; padding-right: 1em; text-align: center\">Date</th>\n",
       "        <th style=\"padding-left: 1em; padding-right: 1em; text-align: center\">Sales</th>\n",
       "        <th style=\"padding-left: 1em; padding-right: 1em; text-align: center\">Customers</th>\n",
       "        <th style=\"padding-left: 1em; padding-right: 1em; text-align: center\">Open</th>\n",
       "        <th style=\"padding-left: 1em; padding-right: 1em; text-align: center\">Promo</th>\n",
       "        <th style=\"padding-left: 1em; padding-right: 1em; text-align: center\">StateHoliday</th>\n",
       "        <th style=\"padding-left: 1em; padding-right: 1em; text-align: center\">SchoolHoliday</th>\n",
       "    </tr>\n",
       "    <tr>\n",
       "        <td style=\"padding-left: 1em; padding-right: 1em; text-align: center; vertical-align: top\">1</td>\n",
       "        <td style=\"padding-left: 1em; padding-right: 1em; text-align: center; vertical-align: top\">5</td>\n",
       "        <td style=\"padding-left: 1em; padding-right: 1em; text-align: center; vertical-align: top\">2015-07-31</td>\n",
       "        <td style=\"padding-left: 1em; padding-right: 1em; text-align: center; vertical-align: top\">5263</td>\n",
       "        <td style=\"padding-left: 1em; padding-right: 1em; text-align: center; vertical-align: top\">555</td>\n",
       "        <td style=\"padding-left: 1em; padding-right: 1em; text-align: center; vertical-align: top\">1</td>\n",
       "        <td style=\"padding-left: 1em; padding-right: 1em; text-align: center; vertical-align: top\">1</td>\n",
       "        <td style=\"padding-left: 1em; padding-right: 1em; text-align: center; vertical-align: top\">0</td>\n",
       "        <td style=\"padding-left: 1em; padding-right: 1em; text-align: center; vertical-align: top\">1</td>\n",
       "    </tr>\n",
       "    <tr>\n",
       "        <td style=\"padding-left: 1em; padding-right: 1em; text-align: center; vertical-align: top\">2</td>\n",
       "        <td style=\"padding-left: 1em; padding-right: 1em; text-align: center; vertical-align: top\">5</td>\n",
       "        <td style=\"padding-left: 1em; padding-right: 1em; text-align: center; vertical-align: top\">2015-07-31</td>\n",
       "        <td style=\"padding-left: 1em; padding-right: 1em; text-align: center; vertical-align: top\">6064</td>\n",
       "        <td style=\"padding-left: 1em; padding-right: 1em; text-align: center; vertical-align: top\">625</td>\n",
       "        <td style=\"padding-left: 1em; padding-right: 1em; text-align: center; vertical-align: top\">1</td>\n",
       "        <td style=\"padding-left: 1em; padding-right: 1em; text-align: center; vertical-align: top\">1</td>\n",
       "        <td style=\"padding-left: 1em; padding-right: 1em; text-align: center; vertical-align: top\">0</td>\n",
       "        <td style=\"padding-left: 1em; padding-right: 1em; text-align: center; vertical-align: top\">1</td>\n",
       "    </tr>\n",
       "    <tr>\n",
       "        <td style=\"padding-left: 1em; padding-right: 1em; text-align: center; vertical-align: top\">3</td>\n",
       "        <td style=\"padding-left: 1em; padding-right: 1em; text-align: center; vertical-align: top\">5</td>\n",
       "        <td style=\"padding-left: 1em; padding-right: 1em; text-align: center; vertical-align: top\">2015-07-31</td>\n",
       "        <td style=\"padding-left: 1em; padding-right: 1em; text-align: center; vertical-align: top\">8314</td>\n",
       "        <td style=\"padding-left: 1em; padding-right: 1em; text-align: center; vertical-align: top\">821</td>\n",
       "        <td style=\"padding-left: 1em; padding-right: 1em; text-align: center; vertical-align: top\">1</td>\n",
       "        <td style=\"padding-left: 1em; padding-right: 1em; text-align: center; vertical-align: top\">1</td>\n",
       "        <td style=\"padding-left: 1em; padding-right: 1em; text-align: center; vertical-align: top\">0</td>\n",
       "        <td style=\"padding-left: 1em; padding-right: 1em; text-align: center; vertical-align: top\">1</td>\n",
       "    </tr>\n",
       "    <tr>\n",
       "        <td style=\"padding-left: 1em; padding-right: 1em; text-align: center; vertical-align: top\">4</td>\n",
       "        <td style=\"padding-left: 1em; padding-right: 1em; text-align: center; vertical-align: top\">5</td>\n",
       "        <td style=\"padding-left: 1em; padding-right: 1em; text-align: center; vertical-align: top\">2015-07-31</td>\n",
       "        <td style=\"padding-left: 1em; padding-right: 1em; text-align: center; vertical-align: top\">13995</td>\n",
       "        <td style=\"padding-left: 1em; padding-right: 1em; text-align: center; vertical-align: top\">1498</td>\n",
       "        <td style=\"padding-left: 1em; padding-right: 1em; text-align: center; vertical-align: top\">1</td>\n",
       "        <td style=\"padding-left: 1em; padding-right: 1em; text-align: center; vertical-align: top\">1</td>\n",
       "        <td style=\"padding-left: 1em; padding-right: 1em; text-align: center; vertical-align: top\">0</td>\n",
       "        <td style=\"padding-left: 1em; padding-right: 1em; text-align: center; vertical-align: top\">1</td>\n",
       "    </tr>\n",
       "    <tr>\n",
       "        <td style=\"padding-left: 1em; padding-right: 1em; text-align: center; vertical-align: top\">5</td>\n",
       "        <td style=\"padding-left: 1em; padding-right: 1em; text-align: center; vertical-align: top\">5</td>\n",
       "        <td style=\"padding-left: 1em; padding-right: 1em; text-align: center; vertical-align: top\">2015-07-31</td>\n",
       "        <td style=\"padding-left: 1em; padding-right: 1em; text-align: center; vertical-align: top\">4822</td>\n",
       "        <td style=\"padding-left: 1em; padding-right: 1em; text-align: center; vertical-align: top\">559</td>\n",
       "        <td style=\"padding-left: 1em; padding-right: 1em; text-align: center; vertical-align: top\">1</td>\n",
       "        <td style=\"padding-left: 1em; padding-right: 1em; text-align: center; vertical-align: top\">1</td>\n",
       "        <td style=\"padding-left: 1em; padding-right: 1em; text-align: center; vertical-align: top\">0</td>\n",
       "        <td style=\"padding-left: 1em; padding-right: 1em; text-align: center; vertical-align: top\">1</td>\n",
       "    </tr>\n",
       "</table>\n",
       "[5 rows x 9 columns]<br/>\n",
       "</div>"
      ],
      "text/plain": [
       "Columns:\n",
       "\tStore\tint\n",
       "\tDayOfWeek\tint\n",
       "\tDate\tstr\n",
       "\tSales\tint\n",
       "\tCustomers\tint\n",
       "\tOpen\tint\n",
       "\tPromo\tint\n",
       "\tStateHoliday\tstr\n",
       "\tSchoolHoliday\tstr\n",
       "\n",
       "Rows: 5\n",
       "\n",
       "Data:\n",
       "+-------+-----------+------------+-------+-----------+------+-------+--------------+\n",
       "| Store | DayOfWeek |    Date    | Sales | Customers | Open | Promo | StateHoliday |\n",
       "+-------+-----------+------------+-------+-----------+------+-------+--------------+\n",
       "|   1   |     5     | 2015-07-31 |  5263 |    555    |  1   |   1   |      0       |\n",
       "|   2   |     5     | 2015-07-31 |  6064 |    625    |  1   |   1   |      0       |\n",
       "|   3   |     5     | 2015-07-31 |  8314 |    821    |  1   |   1   |      0       |\n",
       "|   4   |     5     | 2015-07-31 | 13995 |    1498   |  1   |   1   |      0       |\n",
       "|   5   |     5     | 2015-07-31 |  4822 |    559    |  1   |   1   |      0       |\n",
       "+-------+-----------+------------+-------+-----------+------+-------+--------------+\n",
       "+---------------+\n",
       "| SchoolHoliday |\n",
       "+---------------+\n",
       "|       1       |\n",
       "|       1       |\n",
       "|       1       |\n",
       "|       1       |\n",
       "|       1       |\n",
       "+---------------+\n",
       "[5 rows x 9 columns]"
      ]
     },
     "execution_count": 3,
     "metadata": {},
     "output_type": "execute_result"
    }
   ],
   "source": [
    "train.head(5)"
   ]
  },
  {
   "cell_type": "code",
   "execution_count": 4,
   "metadata": {
    "collapsed": false
   },
   "outputs": [],
   "source": [
    "train = train[train['Sales'] > 0]\n",
    "train = train.join(store, on='Store', how='inner')\n",
    "test = test.join(store, on='Store', how='inner')"
   ]
  },
  {
   "cell_type": "code",
   "execution_count": 5,
   "metadata": {
    "collapsed": false
   },
   "outputs": [
    {
     "data": {
      "text/html": [
       "<div style=\"max-height:1000px;max-width:1500px;overflow:auto;\"><table frame=\"box\" rules=\"cols\">\n",
       "    <tr>\n",
       "        <th style=\"padding-left: 1em; padding-right: 1em; text-align: center\">Store</th>\n",
       "        <th style=\"padding-left: 1em; padding-right: 1em; text-align: center\">DayOfWeek</th>\n",
       "        <th style=\"padding-left: 1em; padding-right: 1em; text-align: center\">Date</th>\n",
       "        <th style=\"padding-left: 1em; padding-right: 1em; text-align: center\">Sales</th>\n",
       "        <th style=\"padding-left: 1em; padding-right: 1em; text-align: center\">Customers</th>\n",
       "        <th style=\"padding-left: 1em; padding-right: 1em; text-align: center\">Open</th>\n",
       "        <th style=\"padding-left: 1em; padding-right: 1em; text-align: center\">Promo</th>\n",
       "        <th style=\"padding-left: 1em; padding-right: 1em; text-align: center\">StateHoliday</th>\n",
       "        <th style=\"padding-left: 1em; padding-right: 1em; text-align: center\">SchoolHoliday</th>\n",
       "        <th style=\"padding-left: 1em; padding-right: 1em; text-align: center\">StoreType</th>\n",
       "        <th style=\"padding-left: 1em; padding-right: 1em; text-align: center\">Assortment</th>\n",
       "    </tr>\n",
       "    <tr>\n",
       "        <td style=\"padding-left: 1em; padding-right: 1em; text-align: center; vertical-align: top\">1</td>\n",
       "        <td style=\"padding-left: 1em; padding-right: 1em; text-align: center; vertical-align: top\">5</td>\n",
       "        <td style=\"padding-left: 1em; padding-right: 1em; text-align: center; vertical-align: top\">2015-07-31</td>\n",
       "        <td style=\"padding-left: 1em; padding-right: 1em; text-align: center; vertical-align: top\">5263</td>\n",
       "        <td style=\"padding-left: 1em; padding-right: 1em; text-align: center; vertical-align: top\">555</td>\n",
       "        <td style=\"padding-left: 1em; padding-right: 1em; text-align: center; vertical-align: top\">1</td>\n",
       "        <td style=\"padding-left: 1em; padding-right: 1em; text-align: center; vertical-align: top\">1</td>\n",
       "        <td style=\"padding-left: 1em; padding-right: 1em; text-align: center; vertical-align: top\">0</td>\n",
       "        <td style=\"padding-left: 1em; padding-right: 1em; text-align: center; vertical-align: top\">1</td>\n",
       "        <td style=\"padding-left: 1em; padding-right: 1em; text-align: center; vertical-align: top\">c</td>\n",
       "        <td style=\"padding-left: 1em; padding-right: 1em; text-align: center; vertical-align: top\">a</td>\n",
       "    </tr>\n",
       "    <tr>\n",
       "        <td style=\"padding-left: 1em; padding-right: 1em; text-align: center; vertical-align: top\">2</td>\n",
       "        <td style=\"padding-left: 1em; padding-right: 1em; text-align: center; vertical-align: top\">5</td>\n",
       "        <td style=\"padding-left: 1em; padding-right: 1em; text-align: center; vertical-align: top\">2015-07-31</td>\n",
       "        <td style=\"padding-left: 1em; padding-right: 1em; text-align: center; vertical-align: top\">6064</td>\n",
       "        <td style=\"padding-left: 1em; padding-right: 1em; text-align: center; vertical-align: top\">625</td>\n",
       "        <td style=\"padding-left: 1em; padding-right: 1em; text-align: center; vertical-align: top\">1</td>\n",
       "        <td style=\"padding-left: 1em; padding-right: 1em; text-align: center; vertical-align: top\">1</td>\n",
       "        <td style=\"padding-left: 1em; padding-right: 1em; text-align: center; vertical-align: top\">0</td>\n",
       "        <td style=\"padding-left: 1em; padding-right: 1em; text-align: center; vertical-align: top\">1</td>\n",
       "        <td style=\"padding-left: 1em; padding-right: 1em; text-align: center; vertical-align: top\">a</td>\n",
       "        <td style=\"padding-left: 1em; padding-right: 1em; text-align: center; vertical-align: top\">a</td>\n",
       "    </tr>\n",
       "    <tr>\n",
       "        <td style=\"padding-left: 1em; padding-right: 1em; text-align: center; vertical-align: top\">3</td>\n",
       "        <td style=\"padding-left: 1em; padding-right: 1em; text-align: center; vertical-align: top\">5</td>\n",
       "        <td style=\"padding-left: 1em; padding-right: 1em; text-align: center; vertical-align: top\">2015-07-31</td>\n",
       "        <td style=\"padding-left: 1em; padding-right: 1em; text-align: center; vertical-align: top\">8314</td>\n",
       "        <td style=\"padding-left: 1em; padding-right: 1em; text-align: center; vertical-align: top\">821</td>\n",
       "        <td style=\"padding-left: 1em; padding-right: 1em; text-align: center; vertical-align: top\">1</td>\n",
       "        <td style=\"padding-left: 1em; padding-right: 1em; text-align: center; vertical-align: top\">1</td>\n",
       "        <td style=\"padding-left: 1em; padding-right: 1em; text-align: center; vertical-align: top\">0</td>\n",
       "        <td style=\"padding-left: 1em; padding-right: 1em; text-align: center; vertical-align: top\">1</td>\n",
       "        <td style=\"padding-left: 1em; padding-right: 1em; text-align: center; vertical-align: top\">a</td>\n",
       "        <td style=\"padding-left: 1em; padding-right: 1em; text-align: center; vertical-align: top\">a</td>\n",
       "    </tr>\n",
       "    <tr>\n",
       "        <td style=\"padding-left: 1em; padding-right: 1em; text-align: center; vertical-align: top\">4</td>\n",
       "        <td style=\"padding-left: 1em; padding-right: 1em; text-align: center; vertical-align: top\">5</td>\n",
       "        <td style=\"padding-left: 1em; padding-right: 1em; text-align: center; vertical-align: top\">2015-07-31</td>\n",
       "        <td style=\"padding-left: 1em; padding-right: 1em; text-align: center; vertical-align: top\">13995</td>\n",
       "        <td style=\"padding-left: 1em; padding-right: 1em; text-align: center; vertical-align: top\">1498</td>\n",
       "        <td style=\"padding-left: 1em; padding-right: 1em; text-align: center; vertical-align: top\">1</td>\n",
       "        <td style=\"padding-left: 1em; padding-right: 1em; text-align: center; vertical-align: top\">1</td>\n",
       "        <td style=\"padding-left: 1em; padding-right: 1em; text-align: center; vertical-align: top\">0</td>\n",
       "        <td style=\"padding-left: 1em; padding-right: 1em; text-align: center; vertical-align: top\">1</td>\n",
       "        <td style=\"padding-left: 1em; padding-right: 1em; text-align: center; vertical-align: top\">c</td>\n",
       "        <td style=\"padding-left: 1em; padding-right: 1em; text-align: center; vertical-align: top\">c</td>\n",
       "    </tr>\n",
       "    <tr>\n",
       "        <td style=\"padding-left: 1em; padding-right: 1em; text-align: center; vertical-align: top\">5</td>\n",
       "        <td style=\"padding-left: 1em; padding-right: 1em; text-align: center; vertical-align: top\">5</td>\n",
       "        <td style=\"padding-left: 1em; padding-right: 1em; text-align: center; vertical-align: top\">2015-07-31</td>\n",
       "        <td style=\"padding-left: 1em; padding-right: 1em; text-align: center; vertical-align: top\">4822</td>\n",
       "        <td style=\"padding-left: 1em; padding-right: 1em; text-align: center; vertical-align: top\">559</td>\n",
       "        <td style=\"padding-left: 1em; padding-right: 1em; text-align: center; vertical-align: top\">1</td>\n",
       "        <td style=\"padding-left: 1em; padding-right: 1em; text-align: center; vertical-align: top\">1</td>\n",
       "        <td style=\"padding-left: 1em; padding-right: 1em; text-align: center; vertical-align: top\">0</td>\n",
       "        <td style=\"padding-left: 1em; padding-right: 1em; text-align: center; vertical-align: top\">1</td>\n",
       "        <td style=\"padding-left: 1em; padding-right: 1em; text-align: center; vertical-align: top\">a</td>\n",
       "        <td style=\"padding-left: 1em; padding-right: 1em; text-align: center; vertical-align: top\">a</td>\n",
       "    </tr>\n",
       "</table>\n",
       "<table frame=\"box\" rules=\"cols\">\n",
       "    <tr>\n",
       "        <th style=\"padding-left: 1em; padding-right: 1em; text-align: center\">CompetitionDistance</th>\n",
       "        <th style=\"padding-left: 1em; padding-right: 1em; text-align: center\">CompetitionOpenSinceMonth</th>\n",
       "        <th style=\"padding-left: 1em; padding-right: 1em; text-align: center\">CompetitionOpenSinceYear</th>\n",
       "        <th style=\"padding-left: 1em; padding-right: 1em; text-align: center\">Promo2</th>\n",
       "        <th style=\"padding-left: 1em; padding-right: 1em; text-align: center\">Promo2SinceWeek</th>\n",
       "        <th style=\"padding-left: 1em; padding-right: 1em; text-align: center\">Promo2SinceYear</th>\n",
       "    </tr>\n",
       "    <tr>\n",
       "        <td style=\"padding-left: 1em; padding-right: 1em; text-align: center; vertical-align: top\">1270</td>\n",
       "        <td style=\"padding-left: 1em; padding-right: 1em; text-align: center; vertical-align: top\">9</td>\n",
       "        <td style=\"padding-left: 1em; padding-right: 1em; text-align: center; vertical-align: top\">2008</td>\n",
       "        <td style=\"padding-left: 1em; padding-right: 1em; text-align: center; vertical-align: top\">0</td>\n",
       "        <td style=\"padding-left: 1em; padding-right: 1em; text-align: center; vertical-align: top\">0</td>\n",
       "        <td style=\"padding-left: 1em; padding-right: 1em; text-align: center; vertical-align: top\">0</td>\n",
       "    </tr>\n",
       "    <tr>\n",
       "        <td style=\"padding-left: 1em; padding-right: 1em; text-align: center; vertical-align: top\">570</td>\n",
       "        <td style=\"padding-left: 1em; padding-right: 1em; text-align: center; vertical-align: top\">11</td>\n",
       "        <td style=\"padding-left: 1em; padding-right: 1em; text-align: center; vertical-align: top\">2007</td>\n",
       "        <td style=\"padding-left: 1em; padding-right: 1em; text-align: center; vertical-align: top\">1</td>\n",
       "        <td style=\"padding-left: 1em; padding-right: 1em; text-align: center; vertical-align: top\">13</td>\n",
       "        <td style=\"padding-left: 1em; padding-right: 1em; text-align: center; vertical-align: top\">2010</td>\n",
       "    </tr>\n",
       "    <tr>\n",
       "        <td style=\"padding-left: 1em; padding-right: 1em; text-align: center; vertical-align: top\">14130</td>\n",
       "        <td style=\"padding-left: 1em; padding-right: 1em; text-align: center; vertical-align: top\">12</td>\n",
       "        <td style=\"padding-left: 1em; padding-right: 1em; text-align: center; vertical-align: top\">2006</td>\n",
       "        <td style=\"padding-left: 1em; padding-right: 1em; text-align: center; vertical-align: top\">1</td>\n",
       "        <td style=\"padding-left: 1em; padding-right: 1em; text-align: center; vertical-align: top\">14</td>\n",
       "        <td style=\"padding-left: 1em; padding-right: 1em; text-align: center; vertical-align: top\">2011</td>\n",
       "    </tr>\n",
       "    <tr>\n",
       "        <td style=\"padding-left: 1em; padding-right: 1em; text-align: center; vertical-align: top\">620</td>\n",
       "        <td style=\"padding-left: 1em; padding-right: 1em; text-align: center; vertical-align: top\">9</td>\n",
       "        <td style=\"padding-left: 1em; padding-right: 1em; text-align: center; vertical-align: top\">2009</td>\n",
       "        <td style=\"padding-left: 1em; padding-right: 1em; text-align: center; vertical-align: top\">0</td>\n",
       "        <td style=\"padding-left: 1em; padding-right: 1em; text-align: center; vertical-align: top\">0</td>\n",
       "        <td style=\"padding-left: 1em; padding-right: 1em; text-align: center; vertical-align: top\">0</td>\n",
       "    </tr>\n",
       "    <tr>\n",
       "        <td style=\"padding-left: 1em; padding-right: 1em; text-align: center; vertical-align: top\">29910</td>\n",
       "        <td style=\"padding-left: 1em; padding-right: 1em; text-align: center; vertical-align: top\">4</td>\n",
       "        <td style=\"padding-left: 1em; padding-right: 1em; text-align: center; vertical-align: top\">2015</td>\n",
       "        <td style=\"padding-left: 1em; padding-right: 1em; text-align: center; vertical-align: top\">0</td>\n",
       "        <td style=\"padding-left: 1em; padding-right: 1em; text-align: center; vertical-align: top\">0</td>\n",
       "        <td style=\"padding-left: 1em; padding-right: 1em; text-align: center; vertical-align: top\">0</td>\n",
       "    </tr>\n",
       "</table>\n",
       "<table frame=\"box\" rules=\"cols\">\n",
       "    <tr>\n",
       "        <th style=\"padding-left: 1em; padding-right: 1em; text-align: center\">PromoInterval</th>\n",
       "    </tr>\n",
       "    <tr>\n",
       "        <td style=\"padding-left: 1em; padding-right: 1em; text-align: center; vertical-align: top\"></td>\n",
       "    </tr>\n",
       "    <tr>\n",
       "        <td style=\"padding-left: 1em; padding-right: 1em; text-align: center; vertical-align: top\">Jan,Apr,Jul,Oct</td>\n",
       "    </tr>\n",
       "    <tr>\n",
       "        <td style=\"padding-left: 1em; padding-right: 1em; text-align: center; vertical-align: top\">Jan,Apr,Jul,Oct</td>\n",
       "    </tr>\n",
       "    <tr>\n",
       "        <td style=\"padding-left: 1em; padding-right: 1em; text-align: center; vertical-align: top\"></td>\n",
       "    </tr>\n",
       "    <tr>\n",
       "        <td style=\"padding-left: 1em; padding-right: 1em; text-align: center; vertical-align: top\"></td>\n",
       "    </tr>\n",
       "</table>\n",
       "[5 rows x 18 columns]<br/>\n",
       "</div>"
      ],
      "text/plain": [
       "Columns:\n",
       "\tStore\tint\n",
       "\tDayOfWeek\tint\n",
       "\tDate\tstr\n",
       "\tSales\tint\n",
       "\tCustomers\tint\n",
       "\tOpen\tint\n",
       "\tPromo\tint\n",
       "\tStateHoliday\tstr\n",
       "\tSchoolHoliday\tstr\n",
       "\tStoreType\tstr\n",
       "\tAssortment\tstr\n",
       "\tCompetitionDistance\tint\n",
       "\tCompetitionOpenSinceMonth\tint\n",
       "\tCompetitionOpenSinceYear\tint\n",
       "\tPromo2\tint\n",
       "\tPromo2SinceWeek\tint\n",
       "\tPromo2SinceYear\tint\n",
       "\tPromoInterval\tstr\n",
       "\n",
       "Rows: 5\n",
       "\n",
       "Data:\n",
       "+-------+-----------+------------+-------+-----------+------+-------+--------------+\n",
       "| Store | DayOfWeek |    Date    | Sales | Customers | Open | Promo | StateHoliday |\n",
       "+-------+-----------+------------+-------+-----------+------+-------+--------------+\n",
       "|   1   |     5     | 2015-07-31 |  5263 |    555    |  1   |   1   |      0       |\n",
       "|   2   |     5     | 2015-07-31 |  6064 |    625    |  1   |   1   |      0       |\n",
       "|   3   |     5     | 2015-07-31 |  8314 |    821    |  1   |   1   |      0       |\n",
       "|   4   |     5     | 2015-07-31 | 13995 |    1498   |  1   |   1   |      0       |\n",
       "|   5   |     5     | 2015-07-31 |  4822 |    559    |  1   |   1   |      0       |\n",
       "+-------+-----------+------------+-------+-----------+------+-------+--------------+\n",
       "+---------------+-----------+------------+---------------------+---------------------------+\n",
       "| SchoolHoliday | StoreType | Assortment | CompetitionDistance | CompetitionOpenSinceMonth |\n",
       "+---------------+-----------+------------+---------------------+---------------------------+\n",
       "|       1       |     c     |     a      |         1270        |             9             |\n",
       "|       1       |     a     |     a      |         570         |             11            |\n",
       "|       1       |     a     |     a      |        14130        |             12            |\n",
       "|       1       |     c     |     c      |         620         |             9             |\n",
       "|       1       |     a     |     a      |        29910        |             4             |\n",
       "+---------------+-----------+------------+---------------------+---------------------------+\n",
       "+--------------------------+--------+-----------------+-----------------+\n",
       "| CompetitionOpenSinceYear | Promo2 | Promo2SinceWeek | Promo2SinceYear |\n",
       "+--------------------------+--------+-----------------+-----------------+\n",
       "|           2008           |   0    |        0        |        0        |\n",
       "|           2007           |   1    |        13       |       2010      |\n",
       "|           2006           |   1    |        14       |       2011      |\n",
       "|           2009           |   0    |        0        |        0        |\n",
       "|           2015           |   0    |        0        |        0        |\n",
       "+--------------------------+--------+-----------------+-----------------+\n",
       "+-----------------+\n",
       "|  PromoInterval  |\n",
       "+-----------------+\n",
       "|                 |\n",
       "| Jan,Apr,Jul,Oct |\n",
       "| Jan,Apr,Jul,Oct |\n",
       "|                 |\n",
       "|                 |\n",
       "+-----------------+\n",
       "[5 rows x 18 columns]"
      ]
     },
     "execution_count": 5,
     "metadata": {},
     "output_type": "execute_result"
    }
   ],
   "source": [
    "train.head(5)"
   ]
  },
  {
   "cell_type": "code",
   "execution_count": 6,
   "metadata": {
    "collapsed": false
   },
   "outputs": [
    {
     "name": "stdout",
     "output_type": "stream",
     "text": [
      "+-------+-----------+-------+-----------+------+-------+--------------+---------------+\n",
      "| Store | DayOfWeek | Sales | Customers | Open | Promo | StateHoliday | SchoolHoliday |\n",
      "+-------+-----------+-------+-----------+------+-------+--------------+---------------+\n",
      "|   1   |     5     |  5263 |    555    |  1   |   1   |      0       |       1       |\n",
      "+-------+-----------+-------+-----------+------+-------+--------------+---------------+\n",
      "+-----------+------------+---------------------+---------------------------+\n",
      "| StoreType | Assortment | CompetitionDistance | CompetitionOpenSinceMonth |\n",
      "+-----------+------------+---------------------+---------------------------+\n",
      "|     c     |     a      |         1270        |             9             |\n",
      "+-----------+------------+---------------------+---------------------------+\n",
      "+--------------------------+--------+-----------------+-----------------+---------------+\n",
      "| CompetitionOpenSinceYear | Promo2 | Promo2SinceWeek | Promo2SinceYear | PromoInterval |\n",
      "+--------------------------+--------+-----------------+-----------------+---------------+\n",
      "|           2008           |   0    |        0        |        0        |               |\n",
      "+--------------------------+--------+-----------------+-----------------+---------------+\n",
      "+-----------+------------+----------+\n",
      "| Date.year | Date.month | Date.day |\n",
      "+-----------+------------+----------+\n",
      "|    2015   |     7      |    31    |\n",
      "+-----------+------------+----------+\n",
      "[1 rows x 20 columns]\n",
      "\n",
      "+----+-------+-----------+------+-------+--------------+---------------+-----------+\n",
      "| Id | Store | DayOfWeek | Open | Promo | StateHoliday | SchoolHoliday | StoreType |\n",
      "+----+-------+-----------+------+-------+--------------+---------------+-----------+\n",
      "| 1  |   1   |     4     |  1   |   1   |      0       |       0       |     c     |\n",
      "+----+-------+-----------+------+-------+--------------+---------------+-----------+\n",
      "+------------+---------------------+---------------------------+--------------------------+\n",
      "| Assortment | CompetitionDistance | CompetitionOpenSinceMonth | CompetitionOpenSinceYear |\n",
      "+------------+---------------------+---------------------------+--------------------------+\n",
      "|     a      |         1270        |             9             |           2008           |\n",
      "+------------+---------------------+---------------------------+--------------------------+\n",
      "+--------+-----------------+-----------------+---------------+-----------+------------+\n",
      "| Promo2 | Promo2SinceWeek | Promo2SinceYear | PromoInterval | Date.year | Date.month |\n",
      "+--------+-----------------+-----------------+---------------+-----------+------------+\n",
      "|   0    |        0        |        0        |               |    2015   |     9      |\n",
      "+--------+-----------------+-----------------+---------------+-----------+------------+\n",
      "+----------+\n",
      "| Date.day |\n",
      "+----------+\n",
      "|    17    |\n",
      "+----------+\n",
      "[1 rows x 19 columns]\n",
      "\n"
     ]
    }
   ],
   "source": [
    "# Add new features from the Date variable\n",
    "train['Date'] = train['Date'].str_to_datetime()\n",
    "train = train.split_datetime('Date',limit=['year', 'month', 'day'])\n",
    "print train.head(1)\n",
    "test['Date'] = test['Date'].str_to_datetime()\n",
    "test = test.split_datetime('Date',limit=['year', 'month', 'day'])\n",
    "print test.head(1)"
   ]
  },
  {
   "cell_type": "code",
   "execution_count": 7,
   "metadata": {
    "collapsed": false
   },
   "outputs": [],
   "source": [
    "# Convert store to a factor variable. In Graphlab, factor variables are automatically inferred from str variables\n",
    "train['Store'] = train['Store'].astype(str)\n",
    "test['Store'] = test['Store'].astype(str)"
   ]
  },
  {
   "cell_type": "code",
   "execution_count": 8,
   "metadata": {
    "collapsed": false
   },
   "outputs": [],
   "source": [
    "# create cross validation dataset from training dataset\n",
    "train_eighty_percent, train_cv_twenty_percent = train.random_split(0.8, seed=1)"
   ]
  },
  {
   "cell_type": "code",
   "execution_count": 9,
   "metadata": {
    "collapsed": false
   },
   "outputs": [
    {
     "name": "stdout",
     "output_type": "stream",
     "text": [
      "PROGRESS: Creating a validation set from 5 percent of training data. This may take a while.\n",
      "          You can set ``validation_set=None`` to disable validation tracking.\n",
      "\n",
      "PROGRESS: WARNING: Detected extremely low variance for feature(s) 'Open' because all entries are nearly the same.\n",
      "Proceeding with model training using all features. If the model does not provide results of adequate quality, exclude the above mentioned feature(s) from the input dataset.\n",
      "PROGRESS: Linear regression:\n",
      "PROGRESS: --------------------------------------------------------\n",
      "PROGRESS: Number of examples          : 641999\n",
      "PROGRESS: Number of features          : 18\n",
      "PROGRESS: Number of unpacked features : 18\n",
      "PROGRESS: Number of coefficients    : 1139\n",
      "PROGRESS: Starting L-BFGS\n",
      "PROGRESS: --------------------------------------------------------\n",
      "PROGRESS: +-----------+----------+-----------+--------------+--------------------+----------------------+---------------+-----------------+\n",
      "PROGRESS: | Iteration | Passes   | Step size | Elapsed Time | Training-max_error | Validation-max_error | Training-rmse | Validation-rmse |\n",
      "PROGRESS: +-----------+----------+-----------+--------------+--------------------+----------------------+---------------+-----------------+\n",
      "PROGRESS: | 1         | 6        | 0.000000  | 2.872201     | 33793.162801       | 27637.155420         | 3194.251113   | 3188.439021     |\n",
      "PROGRESS: | 2         | 9        | 5.000000  | 3.964722     | 34033.025160       | 27282.352464         | 2244.451112   | 2231.863270     |\n",
      "PROGRESS: | 3         | 10       | 5.000000  | 4.426036     | 50835.497774       | 51366.165827         | 9484.605915   | 9538.857300     |\n",
      "PROGRESS: | 4         | 12       | 1.000000  | 5.213564     | 31999.884364       | 25854.904686         | 1719.007195   | 1710.412649     |\n",
      "PROGRESS: | 5         | 13       | 1.000000  | 5.673624     | 31833.754533       | 25807.868368         | 1677.743911   | 1669.096026     |\n",
      "PROGRESS: | 6         | 14       | 1.000000  | 6.135918     | 30825.118913       | 25017.746101         | 1625.485865   | 1621.897866     |\n",
      "PROGRESS: | 10        | 18       | 1.000000  | 8.030459     | 31610.777348       | 25132.306930         | 1562.758286   | 1554.939792     |\n",
      "PROGRESS: +-----------+----------+-----------+--------------+--------------------+----------------------+---------------+-----------------+\n"
     ]
    }
   ],
   "source": [
    "# Train the model on 80% of the training data\n",
    "features = [ x for x in train.column_names() if x not in [\"Id\",\"Date\",\"Sales\",\"Customers\"] ]\n",
    "glm_model = graphlab.linear_regression.create(train_eighty_percent, target=\"Sales\", features=features)"
   ]
  },
  {
   "cell_type": "code",
   "execution_count": 10,
   "metadata": {
    "collapsed": false
   },
   "outputs": [
    {
     "data": {
      "text/plain": [
       "{'max_error': 20883.447786641613, 'rmse': 1575.7278037677322}"
      ]
     },
     "execution_count": 10,
     "metadata": {},
     "output_type": "execute_result"
    }
   ],
   "source": [
    "predictions_cv = glm_model.predict(train_cv_twenty_percent)\n",
    "predictions_cv.head(5)\n",
    "glm_model.evaluate(train_cv_twenty_percent)"
   ]
  },
  {
   "cell_type": "code",
   "execution_count": null,
   "metadata": {
    "collapsed": false
   },
   "outputs": [],
   "source": [
    "boosted_model = graphlab.boosted_trees_regression.create(train_eighty_percent, target='Sales', \n",
    "                                                         features=features,\n",
    "                                                         max_iterations=30, \n",
    "                                                         max_depth = 20)"
   ]
  },
  {
   "cell_type": "code",
   "execution_count": null,
   "metadata": {
    "collapsed": false
   },
   "outputs": [],
   "source": [
    "boosted_predictions_cv = boosted_model.predict(train_cv_twenty_percent)\n",
    "boosted_model.evaluate(train_cv_twenty_percent)"
   ]
  },
  {
   "cell_type": "code",
   "execution_count": null,
   "metadata": {
    "collapsed": true
   },
   "outputs": [],
   "source": []
  }
 ],
 "metadata": {
  "kernelspec": {
   "display_name": "Python 2",
   "language": "python",
   "name": "python2"
  },
  "language_info": {
   "codemirror_mode": {
    "name": "ipython",
    "version": 2
   },
   "file_extension": ".py",
   "mimetype": "text/x-python",
   "name": "python",
   "nbconvert_exporter": "python",
   "pygments_lexer": "ipython2",
   "version": "2.7.10"
  }
 },
 "nbformat": 4,
 "nbformat_minor": 0
}
