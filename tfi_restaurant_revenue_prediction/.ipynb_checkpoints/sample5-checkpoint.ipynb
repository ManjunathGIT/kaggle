{
 "cells": [
  {
   "cell_type": "code",
   "execution_count": 1,
   "metadata": {
    "collapsed": false
   },
   "outputs": [],
   "source": [
    "'''\n",
    "Feature Engineering\n",
    "1. Dict Vectorizer of Categorical Variables (columns date, city, citygroup, type)\n",
    "2. Dict Vectorizer of all the P columns as well\n",
    "\n",
    "Regression\n",
    "1. Use SVM - RBF kernel\n",
    "'''\n",
    "import pandas as pd\n",
    "import numpy as np\n",
    "from sklearn import ensemble, feature_extraction, preprocessing, svm"
   ]
  },
  {
   "cell_type": "code",
   "execution_count": 2,
   "metadata": {
    "collapsed": false
   },
   "outputs": [],
   "source": [
    "# import data\n",
    "train = pd.read_csv('train.csv')\n",
    "test = pd.read_csv('test.csv')\n",
    "sample = pd.read_csv('sampleSubmission.csv')"
   ]
  },
  {
   "cell_type": "code",
   "execution_count": 3,
   "metadata": {
    "collapsed": false
   },
   "outputs": [
    {
     "name": "stdout",
     "output_type": "stream",
     "text": [
      "Open Date 134\n",
      "City 34\n",
      "City Group 2\n",
      "Type 3\n",
      "P1 8\n",
      "P2 8\n",
      "P3 8\n",
      "P4 6\n",
      "P5 7\n",
      "P6 8\n",
      "P7 6\n",
      "P8 8\n",
      "P9 4\n",
      "P10 4\n",
      "P11 8\n",
      "P12 7\n",
      "P13 5\n",
      "P14 10\n",
      "P15 8\n",
      "P16 9\n",
      "P17 9\n",
      "P18 7\n",
      "P19 9\n",
      "P20 9\n",
      "P21 8\n",
      "P22 5\n",
      "P23 9\n",
      "P24 9\n",
      "P25 8\n",
      "P26 10\n",
      "P27 9\n",
      "P28 9\n",
      "P29 7\n",
      "P30 9\n",
      "P31 10\n",
      "P32 10\n",
      "P33 6\n",
      "P34 8\n",
      "P35 8\n",
      "P36 8\n",
      "P37 8\n",
      "(137, 210) (100000, 210)\n"
     ]
    }
   ],
   "source": [
    "# encode categorical variables\n",
    "vec = feature_extraction.DictVectorizer()\n",
    "names_categorical = []\n",
    "for name in train.columns[1:-1] :    \n",
    "    #if name.startswith('P') == False:\n",
    "    names_categorical.append(name)\n",
    "    print name, len(np.unique(train[name]))\n",
    "X_train_cat = vec.fit_transform(train[names_categorical].T.to_dict().values()).todense()\n",
    "X_test_cat = vec.transform(test[names_categorical].T.to_dict().values()).todense()\n",
    "print X_train_cat.shape, X_test_cat.shape"
   ]
  },
  {
   "cell_type": "code",
   "execution_count": 4,
   "metadata": {
    "collapsed": false
   },
   "outputs": [
    {
     "data": {
      "text/plain": [
       "\"\\n# Numerical Labels\\nnumerical_label = ['P'+str(i) for i in range(1,38)]\\nX_train_num = train[numerical_label]\\nX_test_num = test[numerical_label]\\nprint X_train_num.shape, X_test_num.shape\\n\""
      ]
     },
     "execution_count": 4,
     "metadata": {},
     "output_type": "execute_result"
    }
   ],
   "source": [
    "'''\n",
    "# Numerical Labels\n",
    "numerical_label = ['P'+str(i) for i in range(1,38)]\n",
    "X_train_num = train[numerical_label]\n",
    "X_test_num = test[numerical_label]\n",
    "print X_train_num.shape, X_test_num.shape\n",
    "'''"
   ]
  },
  {
   "cell_type": "code",
   "execution_count": 8,
   "metadata": {
    "collapsed": false
   },
   "outputs": [
    {
     "name": "stdout",
     "output_type": "stream",
     "text": [
      "(137, 210) (100000, 210) (137,)\n"
     ]
    }
   ],
   "source": [
    "# Horizontally Stack - Categorical & Numerical Variables\n",
    "#X = np.hstack((X_train_cat, X_train_num))\n",
    "#Xt = np.hstack((X_test_cat,X_test_num))\n",
    "X = X_train_cat\n",
    "Xt = X_test_cat\n",
    "y = train['revenue']\n",
    "print X.shape, Xt.shape, y.shape"
   ]
  },
  {
   "cell_type": "code",
   "execution_count": 10,
   "metadata": {
    "collapsed": false
   },
   "outputs": [
    {
     "name": "stdout",
     "output_type": "stream",
     "text": [
      "[ 3939292.43800679  3938981.99165112  3939703.06873013 ...,\n",
      "  3939362.85674853  3939351.8801388   3939351.8584357 ]\n"
     ]
    }
   ],
   "source": [
    "# Fit & Predict\n",
    "#regressor = ensemble.RandomForestRegressor(n_estimators=1000)\n",
    "#regressor.fit(X, y)\n",
    "svr_rbf = svm.SVR(kernel='rbf', C=1e3, gamma=0.1)\n",
    "#svr_lin = svm.SVR(kernel='linear', C=1e3)\n",
    "svr_rbf.fit(X, y)\n",
    "yp = svr_rbf.predict(Xt)\n",
    "print yp"
   ]
  },
  {
   "cell_type": "code",
   "execution_count": 11,
   "metadata": {
    "collapsed": false
   },
   "outputs": [],
   "source": [
    "# create submission file\n",
    "sample['Prediction']=yp\n",
    "sample.to_csv('sample5.csv',index=False)"
   ]
  },
  {
   "cell_type": "code",
   "execution_count": null,
   "metadata": {
    "collapsed": false
   },
   "outputs": [],
   "source": []
  }
 ],
 "metadata": {
  "kernelspec": {
   "display_name": "Python 2",
   "language": "python",
   "name": "python2"
  },
  "language_info": {
   "codemirror_mode": {
    "name": "ipython",
    "version": 2
   },
   "file_extension": ".py",
   "mimetype": "text/x-python",
   "name": "python",
   "nbconvert_exporter": "python",
   "pygments_lexer": "ipython2",
   "version": "2.7.9"
  }
 },
 "nbformat": 4,
 "nbformat_minor": 0
}
