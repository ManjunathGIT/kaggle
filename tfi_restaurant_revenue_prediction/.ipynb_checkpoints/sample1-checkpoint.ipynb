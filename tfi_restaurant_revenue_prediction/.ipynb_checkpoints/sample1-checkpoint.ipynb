{
 "metadata": {
  "name": "",
  "signature": "sha256:974dc5c20ce08d958320a16e122db480e1149eabaad57933a2bc302236416720"
 },
 "nbformat": 3,
 "nbformat_minor": 0,
 "worksheets": [
  {
   "cells": [
    {
     "cell_type": "code",
     "collapsed": false,
     "input": [
      "import pandas as pd\n",
      "import numpy as np\n",
      "from sklearn import ensemble, feature_extraction, preprocessing"
     ],
     "language": "python",
     "metadata": {},
     "outputs": [],
     "prompt_number": 152
    },
    {
     "cell_type": "code",
     "collapsed": false,
     "input": [
      "# import data\n",
      "train = pd.read_csv('train.csv')\n",
      "test = pd.read_csv('test.csv')\n",
      "sample = pd.read_csv('sampleSubmission.csv')"
     ],
     "language": "python",
     "metadata": {},
     "outputs": [],
     "prompt_number": 153
    },
    {
     "cell_type": "code",
     "collapsed": false,
     "input": [
      "# encode categorical variables\n",
      "vec = feature_extraction.DictVectorizer()\n",
      "names_categorical = []\n",
      "for name in train.columns[1:-1] :    \n",
      "    if name.startswith('P') == False:\n",
      "        names_categorical.append(name)\n",
      "        print name, len(np.unique(train[name]))\n",
      "X_train_cat = vec.fit_transform(train[names_categorical].T.to_dict().values()).todense()\n",
      "X_test_cat = vec.transform(test[names_categorical].T.to_dict().values()).todense()\n",
      "print X_train_cat.shape, X_test_cat.shape"
     ],
     "language": "python",
     "metadata": {},
     "outputs": [
      {
       "output_type": "stream",
       "stream": "stdout",
       "text": [
        "Open Date 134\n",
        "City 34\n",
        "City Group 2\n",
        "Type 3\n",
        "(137, 173)"
       ]
      },
      {
       "output_type": "stream",
       "stream": "stdout",
       "text": [
        " (100000, 173)\n"
       ]
      }
     ],
     "prompt_number": 154
    },
    {
     "cell_type": "code",
     "collapsed": false,
     "input": [
      "# Numerical Labels\n",
      "numerical_label = ['P'+str(i) for i in range(1,38)]\n",
      "X_train_num = train[numerical_label]\n",
      "X_test_num = test[numerical_label]\n",
      "print X_train_num.shape, X_test_num.shape"
     ],
     "language": "python",
     "metadata": {},
     "outputs": [
      {
       "output_type": "stream",
       "stream": "stdout",
       "text": [
        "(137, 37) (100000, 37)\n"
       ]
      }
     ],
     "prompt_number": 155
    },
    {
     "cell_type": "code",
     "collapsed": false,
     "input": [
      "# Horizontally Stack - Categorical & Numerical Variables\n",
      "X = np.hstack((X_train_cat, X_train_num))\n",
      "Xt = np.hstack((X_test_cat,X_test_num))\n",
      "y = train['revenue']\n",
      "print X.shape, Xt.shape, y.shape"
     ],
     "language": "python",
     "metadata": {},
     "outputs": [
      {
       "output_type": "stream",
       "stream": "stdout",
       "text": [
        "(137, 210) (100000, 210) (137,)\n"
       ]
      }
     ],
     "prompt_number": 156
    },
    {
     "cell_type": "code",
     "collapsed": false,
     "input": [
      "# Fit & Predict\n",
      "regressor = ensemble.RandomForestRegressor(n_estimators=1000)\n",
      "regressor.fit(X, y)\n",
      "yp = regressor.predict(Xt)\n",
      "print yp"
     ],
     "language": "python",
     "metadata": {},
     "outputs": [
      {
       "output_type": "stream",
       "stream": "stdout",
       "text": [
        "[ 4035325.768  3150553.711  3631755.332 ...,  4184984.076  4271931.627\n",
        "  4342550.465]\n"
       ]
      }
     ],
     "prompt_number": 160
    },
    {
     "cell_type": "code",
     "collapsed": false,
     "input": [
      "# create submission file\n",
      "sample['Prediction']=yp\n",
      "sample.to_csv('sample1.csv',index=False)"
     ],
     "language": "python",
     "metadata": {},
     "outputs": [],
     "prompt_number": 161
    },
    {
     "cell_type": "code",
     "collapsed": false,
     "input": [],
     "language": "python",
     "metadata": {},
     "outputs": []
    }
   ],
   "metadata": {}
  }
 ]
}