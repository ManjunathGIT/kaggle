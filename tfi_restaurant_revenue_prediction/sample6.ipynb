{
 "cells": [
  {
   "cell_type": "code",
   "execution_count": 9,
   "metadata": {
    "collapsed": false
   },
   "outputs": [],
   "source": [
    "'''\n",
    "Feature Engineering\n",
    "1. Convert Date to DaysOld\n",
    "2. Dict Vectorizer of Categorical Variables (columns DaysOld, city, citygroup, type)\n",
    "3. All the P columns stay AS-IS as numerical variables\n",
    "Regression\n",
    "\n",
    "1. Use Random Forest\n",
    "'''\n",
    "import pandas as pd\n",
    "import numpy as np\n",
    "from sklearn import ensemble, feature_extraction, preprocessing\n",
    "from datetime import datetime"
   ]
  },
  {
   "cell_type": "code",
   "execution_count": 10,
   "metadata": {
    "collapsed": false
   },
   "outputs": [],
   "source": [
    "# import data\n",
    "train = pd.read_csv('train.csv')\n",
    "test = pd.read_csv('test.csv')\n",
    "sample = pd.read_csv('sampleSubmission.csv')"
   ]
  },
  {
   "cell_type": "code",
   "execution_count": 20,
   "metadata": {
    "collapsed": false
   },
   "outputs": [],
   "source": [
    "# Convert OpenDate to DaysOld\n",
    "def diff_dates_2015(date_x):\n",
    "  date_format = \"%m/%d/%Y\"\n",
    "  x = datetime.strptime(date_x, date_format)\n",
    "  y = datetime.strptime('01/01/2015', date_format)\n",
    "  delta = y - x\n",
    "  return delta.days\n",
    "\n",
    "train[\"days_old\"] = train[\"Open Date\"].apply(lambda x: diff_dates_2015(x))\n",
    "test[\"days_old\"] = test[\"Open Date\"].apply(lambda x: diff_dates_2015(x))"
   ]
  },
  {
   "cell_type": "code",
   "execution_count": 21,
   "metadata": {
    "collapsed": false
   },
   "outputs": [
    {
     "name": "stdout",
     "output_type": "stream",
     "text": [
      "City 34\n",
      "City Group 2\n",
      "Type 3\n",
      "['City', 'City Group', 'Type']\n",
      "(137, 39) (100000, 39)\n"
     ]
    }
   ],
   "source": [
    "# encode categorical variables\n",
    "vec = feature_extraction.DictVectorizer()\n",
    "names_categorical = []\n",
    "for name in train.columns[2:-2] :    \n",
    "    if name.startswith('P') == False:\n",
    "        names_categorical.append(name)\n",
    "        print name, len(np.unique(train[name]))\n",
    "print names_categorical\n",
    "X_train_cat = vec.fit_transform(train[names_categorical].T.to_dict().values()).todense()\n",
    "X_test_cat = vec.transform(test[names_categorical].T.to_dict().values()).todense()\n",
    "print X_train_cat.shape, X_test_cat.shape"
   ]
  },
  {
   "cell_type": "code",
   "execution_count": 22,
   "metadata": {
    "collapsed": false
   },
   "outputs": [
    {
     "name": "stdout",
     "output_type": "stream",
     "text": [
      "(137, 38) (100000, 38)\n"
     ]
    }
   ],
   "source": [
    "# Numerical Labels\n",
    "numerical_label = ['P'+str(i) for i in range(1,38)]\n",
    "numerical_label.append('days_old')\n",
    "X_train_num = train[numerical_label]\n",
    "X_test_num = test[numerical_label]\n",
    "print X_train_num.shape, X_test_num.shape"
   ]
  },
  {
   "cell_type": "code",
   "execution_count": 23,
   "metadata": {
    "collapsed": false
   },
   "outputs": [
    {
     "name": "stdout",
     "output_type": "stream",
     "text": [
      "(137, 77) (100000, 77) (137,)\n"
     ]
    }
   ],
   "source": [
    "# Horizontally Stack - Categorical & Numerical Variables\n",
    "X = np.hstack((X_train_cat, X_train_num))\n",
    "Xt = np.hstack((X_test_cat,X_test_num))\n",
    "y = train['revenue']\n",
    "print X.shape, Xt.shape, y.shape"
   ]
  },
  {
   "cell_type": "code",
   "execution_count": 24,
   "metadata": {
    "collapsed": false
   },
   "outputs": [
    {
     "name": "stdout",
     "output_type": "stream",
     "text": [
      "[ 3795574.606  3428395.256  3250892.671 ...,  3545497.206  3503086.169\n",
      "  5833691.437]\n"
     ]
    }
   ],
   "source": [
    "# Fit & Predict\n",
    "regressor = ensemble.RandomForestRegressor(n_estimators=1000)\n",
    "regressor.fit(X, y)\n",
    "yp = regressor.predict(Xt)\n",
    "print yp"
   ]
  },
  {
   "cell_type": "code",
   "execution_count": 25,
   "metadata": {
    "collapsed": false
   },
   "outputs": [],
   "source": [
    "# create submission file\n",
    "sample['Prediction']=yp\n",
    "sample.to_csv('sample6.csv',index=False)"
   ]
  },
  {
   "cell_type": "code",
   "execution_count": null,
   "metadata": {
    "collapsed": false
   },
   "outputs": [],
   "source": []
  }
 ],
 "metadata": {
  "kernelspec": {
   "display_name": "Python 2",
   "language": "python",
   "name": "python2"
  },
  "language_info": {
   "codemirror_mode": {
    "name": "ipython",
    "version": 2
   },
   "file_extension": ".py",
   "mimetype": "text/x-python",
   "name": "python",
   "nbconvert_exporter": "python",
   "pygments_lexer": "ipython2",
   "version": "2.7.9"
  }
 },
 "nbformat": 4,
 "nbformat_minor": 0
}
