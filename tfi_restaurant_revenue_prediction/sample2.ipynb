{
 "cells": [
  {
   "cell_type": "code",
   "execution_count": 31,
   "metadata": {
    "collapsed": false
   },
   "outputs": [],
   "source": [
    "'''\n",
    "Feature Engineering\n",
    "1. Convert Date column to Year\n",
    "2. Dict Vectorizer of Categorical Variables (columns year, city, citygroup, type)\n",
    "3. All the P columns stay AS-IS as numerical variables\n",
    "\n",
    "Regression\n",
    "1. Use Random Forest\n",
    "'''\n",
    "import pandas as pd\n",
    "import numpy as np\n",
    "from sklearn import ensemble, feature_extraction, preprocessing"
   ]
  },
  {
   "cell_type": "code",
   "execution_count": 32,
   "metadata": {
    "collapsed": false
   },
   "outputs": [],
   "source": [
    "# import data\n",
    "train = pd.read_csv('train.csv')\n",
    "test = pd.read_csv('test.csv')\n",
    "sample = pd.read_csv('sampleSubmission.csv')"
   ]
  },
  {
   "cell_type": "code",
   "execution_count": 33,
   "metadata": {
    "collapsed": false
   },
   "outputs": [],
   "source": [
    "# convert date column to take just the year value\n",
    "train['Open Date'] = train['Open Date'].apply(lambda x: str(x)[-4:])\n",
    "test['Open Date'] = test['Open Date'].apply(lambda x: str(x)[-4:])"
   ]
  },
  {
   "cell_type": "code",
   "execution_count": 36,
   "metadata": {
    "collapsed": false
   },
   "outputs": [
    {
     "name": "stdout",
     "output_type": "stream",
     "text": [
      "Open Date 17\n",
      "City 34\n",
      "City Group 2\n",
      "Type 3\n",
      "['Open Date', 'City', 'City Group', 'Type']\n",
      "(137, 56) (100000, 56)\n"
     ]
    }
   ],
   "source": [
    "# encode categorical variables\n",
    "vec = feature_extraction.DictVectorizer()\n",
    "names_categorical = []\n",
    "for name in train.columns[1:-1] :    \n",
    "    if name.startswith('P') == False:\n",
    "        names_categorical.append(name)\n",
    "        print name, len(np.unique(train[name]))\n",
    "print names_categorical\n",
    "X_train_cat = vec.fit_transform(train[names_categorical].T.to_dict().values()).todense()\n",
    "X_test_cat = vec.transform(test[names_categorical].T.to_dict().values()).todense()\n",
    "print X_train_cat.shape, X_test_cat.shape"
   ]
  },
  {
   "cell_type": "code",
   "execution_count": 37,
   "metadata": {
    "collapsed": false
   },
   "outputs": [
    {
     "name": "stdout",
     "output_type": "stream",
     "text": [
      "(137, 37) (100000, 37)\n"
     ]
    }
   ],
   "source": [
    "# Numerical Labels\n",
    "numerical_label = ['P'+str(i) for i in range(1,38)]\n",
    "X_train_num = train[numerical_label]\n",
    "X_test_num = test[numerical_label]\n",
    "print X_train_num.shape, X_test_num.shape"
   ]
  },
  {
   "cell_type": "code",
   "execution_count": 38,
   "metadata": {
    "collapsed": false
   },
   "outputs": [
    {
     "name": "stdout",
     "output_type": "stream",
     "text": [
      "(137, 93) (100000, 93) (137,)\n"
     ]
    }
   ],
   "source": [
    "# Horizontally Stack - Categorical & Numerical Variables\n",
    "X = np.hstack((X_train_cat, X_train_num))\n",
    "Xt = np.hstack((X_test_cat,X_test_num))\n",
    "y = train['revenue']\n",
    "print X.shape, Xt.shape, y.shape"
   ]
  },
  {
   "cell_type": "code",
   "execution_count": 39,
   "metadata": {
    "collapsed": false
   },
   "outputs": [
    {
     "name": "stdout",
     "output_type": "stream",
     "text": [
      "[ 4023328.939  3357761.327  3283261.252 ...,  4214859.906  4161496.348\n",
      "  5368026.864]\n"
     ]
    }
   ],
   "source": [
    "# Fit & Predict\n",
    "regressor = ensemble.RandomForestRegressor(n_estimators=1000)\n",
    "regressor.fit(X, y)\n",
    "yp = regressor.predict(Xt)\n",
    "print yp"
   ]
  },
  {
   "cell_type": "code",
   "execution_count": 40,
   "metadata": {
    "collapsed": false
   },
   "outputs": [],
   "source": [
    "# create submission file\n",
    "sample['Prediction']=yp\n",
    "sample.to_csv('sample2.csv',index=False)"
   ]
  },
  {
   "cell_type": "code",
   "execution_count": null,
   "metadata": {
    "collapsed": false
   },
   "outputs": [],
   "source": []
  }
 ],
 "metadata": {
  "kernelspec": {
   "display_name": "Python 2",
   "language": "python",
   "name": "python2"
  },
  "language_info": {
   "codemirror_mode": {
    "name": "ipython",
    "version": 2
   },
   "file_extension": ".py",
   "mimetype": "text/x-python",
   "name": "python",
   "nbconvert_exporter": "python",
   "pygments_lexer": "ipython2",
   "version": "2.7.9"
  }
 },
 "nbformat": 4,
 "nbformat_minor": 0
}
