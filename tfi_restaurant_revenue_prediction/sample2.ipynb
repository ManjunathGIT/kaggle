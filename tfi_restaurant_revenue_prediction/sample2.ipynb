{
 "metadata": {
  "name": "",
  "signature": "sha256:2eb2d4c3d1b26c0caf84f613d5f668ec776478214de042528c1c02d82c953c11"
 },
 "nbformat": 3,
 "nbformat_minor": 0,
 "worksheets": [
  {
   "cells": [
    {
     "cell_type": "code",
     "collapsed": false,
     "input": [
      "'''\n",
      "Feature Engineering\n",
      "1. Convert Date column to Year\n",
      "2. Dict Vectorizer of Categorical Variables (columns year, city, citygroup, type)\n",
      "3. All the P columns stay AS-IS as numerical variables\n",
      "Regression\n",
      "1. Use Random Forest\n",
      "'''\n",
      "import pandas as pd\n",
      "import numpy as np\n",
      "from sklearn import ensemble, feature_extraction, preprocessing"
     ],
     "language": "python",
     "metadata": {},
     "outputs": [],
     "prompt_number": 31
    },
    {
     "cell_type": "code",
     "collapsed": false,
     "input": [
      "# import data\n",
      "train = pd.read_csv('train.csv')\n",
      "test = pd.read_csv('test.csv')\n",
      "sample = pd.read_csv('sampleSubmission.csv')"
     ],
     "language": "python",
     "metadata": {},
     "outputs": [],
     "prompt_number": 32
    },
    {
     "cell_type": "code",
     "collapsed": false,
     "input": [
      "# convert date column to take just the year value\n",
      "train['Open Date'] = train['Open Date'].apply(lambda x: str(x)[-4:])\n",
      "test['Open Date'] = test['Open Date'].apply(lambda x: str(x)[-4:])"
     ],
     "language": "python",
     "metadata": {},
     "outputs": [],
     "prompt_number": 33
    },
    {
     "cell_type": "code",
     "collapsed": false,
     "input": [
      "# encode categorical variables\n",
      "vec = feature_extraction.DictVectorizer()\n",
      "names_categorical = []\n",
      "for name in train.columns[1:-1] :    \n",
      "    if name.startswith('P') == False:\n",
      "        names_categorical.append(name)\n",
      "        print name, len(np.unique(train[name]))\n",
      "print names_categorical\n",
      "X_train_cat = vec.fit_transform(train[names_categorical].T.to_dict().values()).todense()\n",
      "X_test_cat = vec.transform(test[names_categorical].T.to_dict().values()).todense()\n",
      "print X_train_cat.shape, X_test_cat.shape"
     ],
     "language": "python",
     "metadata": {},
     "outputs": [
      {
       "output_type": "stream",
       "stream": "stdout",
       "text": [
        "Open Date 17\n",
        "City 34\n",
        "City Group 2\n",
        "Type 3\n",
        "['Open Date', 'City', 'City Group', 'Type']\n",
        "(137, 56)"
       ]
      },
      {
       "output_type": "stream",
       "stream": "stdout",
       "text": [
        " (100000, 56)\n"
       ]
      }
     ],
     "prompt_number": 36
    },
    {
     "cell_type": "code",
     "collapsed": false,
     "input": [
      "# Numerical Labels\n",
      "numerical_label = ['P'+str(i) for i in range(1,38)]\n",
      "X_train_num = train[numerical_label]\n",
      "X_test_num = test[numerical_label]\n",
      "print X_train_num.shape, X_test_num.shape"
     ],
     "language": "python",
     "metadata": {},
     "outputs": [
      {
       "output_type": "stream",
       "stream": "stdout",
       "text": [
        "(137, 37) (100000, 37)\n"
       ]
      }
     ],
     "prompt_number": 37
    },
    {
     "cell_type": "code",
     "collapsed": false,
     "input": [
      "# Horizontally Stack - Categorical & Numerical Variables\n",
      "X = np.hstack((X_train_cat, X_train_num))\n",
      "Xt = np.hstack((X_test_cat,X_test_num))\n",
      "y = train['revenue']\n",
      "print X.shape, Xt.shape, y.shape"
     ],
     "language": "python",
     "metadata": {},
     "outputs": [
      {
       "output_type": "stream",
       "stream": "stdout",
       "text": [
        "(137, 93) (100000, 93) (137,)\n"
       ]
      }
     ],
     "prompt_number": 38
    },
    {
     "cell_type": "code",
     "collapsed": false,
     "input": [
      "# Fit & Predict\n",
      "regressor = ensemble.RandomForestRegressor(n_estimators=1000)\n",
      "regressor.fit(X, y)\n",
      "yp = regressor.predict(Xt)\n",
      "print yp"
     ],
     "language": "python",
     "metadata": {},
     "outputs": [
      {
       "output_type": "stream",
       "stream": "stdout",
       "text": [
        "[ 4023328.939  3357761.327  3283261.252 ...,  4214859.906  4161496.348\n",
        "  5368026.864]\n"
       ]
      }
     ],
     "prompt_number": 39
    },
    {
     "cell_type": "code",
     "collapsed": false,
     "input": [
      "# create submission file\n",
      "sample['Prediction']=yp\n",
      "sample.to_csv('sample2.csv',index=False)"
     ],
     "language": "python",
     "metadata": {},
     "outputs": [],
     "prompt_number": 40
    },
    {
     "cell_type": "code",
     "collapsed": false,
     "input": [],
     "language": "python",
     "metadata": {},
     "outputs": []
    }
   ],
   "metadata": {}
  }
 ]
}